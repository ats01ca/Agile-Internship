{
 "cells": [
  {
   "cell_type": "code",
   "execution_count": null,
   "id": "a29bcdbd",
   "metadata": {},
   "outputs": [],
   "source": [
    "import pandas as pd\n",
    "df1 =pd.read_csv(\"input1.csv\")\n",
    "df2=pd.read_csv(\"input2.csv\")"
   ]
  },
  {
   "cell_type": "code",
   "execution_count": null,
   "id": "afa15330",
   "metadata": {},
   "outputs": [],
   "source": [
    "df3 = pd.merge(df1, df2)"
   ]
  },
  {
   "cell_type": "code",
   "execution_count": null,
   "id": "37db90cf",
   "metadata": {},
   "outputs": [],
   "source": [
    "df3"
   ]
  },
  {
   "cell_type": "code",
   "execution_count": null,
   "id": "fa595083",
   "metadata": {},
   "outputs": [],
   "source": [
    "df4=df3.drop([\"name\",\"uid\",\"User ID\",\"Name\",\"S No\"],axis=1)"
   ]
  },
  {
   "cell_type": "code",
   "execution_count": null,
   "id": "c3a65bdf",
   "metadata": {},
   "outputs": [],
   "source": [
    "df5=df4.replace('Brandtech Lab', 'BrandTech Lab')"
   ]
  },
  {
   "cell_type": "code",
   "execution_count": null,
   "id": "5565f76d",
   "metadata": {},
   "outputs": [],
   "source": [
    "df5.sort_values(by=[\"Team Name\"], ascending=True)"
   ]
  },
  {
   "cell_type": "code",
   "execution_count": null,
   "id": "07fd16b2",
   "metadata": {},
   "outputs": [],
   "source": [
    "df5.reset_index(drop=True)"
   ]
  },
  {
   "cell_type": "code",
   "execution_count": null,
   "id": "c8ce1de5",
   "metadata": {},
   "outputs": [],
   "source": [
    "df6=df5.groupby('Team Name')['total_statements'].mean()"
   ]
  },
  {
   "cell_type": "code",
   "execution_count": null,
   "id": "d26d1e8e",
   "metadata": {},
   "outputs": [],
   "source": [
    "df7=df5.groupby('Team Name')['total_reasons'].mean()"
   ]
  },
  {
   "cell_type": "code",
   "execution_count": null,
   "id": "ef150e8c",
   "metadata": {},
   "outputs": [],
   "source": [
    "df8 = pd.merge(df6, df7, left_index=True, right_index=True)"
   ]
  },
  {
   "cell_type": "code",
   "execution_count": null,
   "id": "6d7d5adf",
   "metadata": {},
   "outputs": [],
   "source": [
    "df8"
   ]
  },
  {
   "cell_type": "code",
   "execution_count": null,
   "id": "9480e1af",
   "metadata": {},
   "outputs": [],
   "source": [
    "df9=df8.reset_index().rename(columns={'index': 'Team Name'})"
   ]
  },
  {
   "cell_type": "code",
   "execution_count": null,
   "id": "57b060f1",
   "metadata": {},
   "outputs": [],
   "source": [
    "df9"
   ]
  },
  {
   "cell_type": "code",
   "execution_count": null,
   "id": "815d73f8",
   "metadata": {},
   "outputs": [],
   "source": [
    "df10=df9.sort_values(by='total_statements',ascending=False)"
   ]
  },
  {
   "cell_type": "code",
   "execution_count": null,
   "id": "95eaea3c",
   "metadata": {},
   "outputs": [],
   "source": [
    "df11=df10.reset_index(drop=True)"
   ]
  },
  {
   "cell_type": "code",
   "execution_count": null,
   "id": "682c85bb",
   "metadata": {},
   "outputs": [],
   "source": [
    "df11"
   ]
  },
  {
   "cell_type": "code",
   "execution_count": null,
   "id": "4adca6a3",
   "metadata": {},
   "outputs": [],
   "source": [
    "df11.index += 1"
   ]
  },
  {
   "cell_type": "code",
   "execution_count": null,
   "id": "2ea1ba46",
   "metadata": {},
   "outputs": [],
   "source": [
    "df12=df11.reset_index().rename(columns={'index': 'Team Rank'})"
   ]
  },
  {
   "cell_type": "code",
   "execution_count": null,
   "id": "b1f8b464",
   "metadata": {},
   "outputs": [],
   "source": [
    "df12"
   ]
  },
  {
   "cell_type": "code",
   "execution_count": null,
   "id": "a959d7f8",
   "metadata": {},
   "outputs": [],
   "source": [
    "df13=df12.rename(columns={'Team Name':'Thinking Teams Leaderboard','total_statements': 'Average Statements', 'total_reasons': 'Average Reasons'})"
   ]
  },
  {
   "cell_type": "code",
   "execution_count": null,
   "id": "6f982af8",
   "metadata": {},
   "outputs": [],
   "source": [
    "df14= df13.round({'Average Statements': 2, 'Average Reasons': 2})"
   ]
  },
  {
   "cell_type": "code",
   "execution_count": null,
   "id": "d1a32b56",
   "metadata": {},
   "outputs": [],
   "source": [
    "df14"
   ]
  },
  {
   "cell_type": "code",
   "execution_count": null,
   "id": "e10fecf1",
   "metadata": {},
   "outputs": [],
   "source": [
    "df14.to_csv('Team Wise Leaderboard Output.csv', index=False)"
   ]
  },
  {
   "cell_type": "code",
   "execution_count": null,
   "id": "5b24e294",
   "metadata": {},
   "outputs": [],
   "source": []
  },
  {
   "cell_type": "code",
   "execution_count": null,
   "id": "60ea277f",
   "metadata": {},
   "outputs": [],
   "source": []
  },
  {
   "cell_type": "code",
   "execution_count": null,
   "id": "2c0e1c58",
   "metadata": {},
   "outputs": [],
   "source": []
  }
 ],
 "metadata": {
  "kernelspec": {
   "display_name": "Python 3 (ipykernel)",
   "language": "python",
   "name": "python3"
  },
  "language_info": {
   "codemirror_mode": {
    "name": "ipython",
    "version": 3
   },
   "file_extension": ".py",
   "mimetype": "text/x-python",
   "name": "python",
   "nbconvert_exporter": "python",
   "pygments_lexer": "ipython3",
   "version": "3.9.13"
  }
 },
 "nbformat": 4,
 "nbformat_minor": 5
}

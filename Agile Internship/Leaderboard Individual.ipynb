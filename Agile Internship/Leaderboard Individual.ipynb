{
 "cells": [
  {
   "cell_type": "code",
   "execution_count": null,
   "id": "ae84e4ad",
   "metadata": {},
   "outputs": [],
   "source": [
    "import pandas as pd\n",
    "df1 =pd.read_csv(\"input1.csv\")\n",
    "df2=pd.read_csv(\"input2.csv\")"
   ]
  },
  {
   "cell_type": "code",
   "execution_count": null,
   "id": "9bcb443e",
   "metadata": {},
   "outputs": [],
   "source": [
    "df3 = pd.merge(df1, df2)"
   ]
  },
  {
   "cell_type": "code",
   "execution_count": null,
   "id": "5fa5a9ca",
   "metadata": {},
   "outputs": [],
   "source": [
    "df3"
   ]
  },
  {
   "cell_type": "code",
   "execution_count": null,
   "id": "1f4e06db",
   "metadata": {},
   "outputs": [],
   "source": [
    "df4=df3.drop([\"name\",\"User ID\",\"S No\",\"Team Name\"],axis=1)"
   ]
  },
  {
   "cell_type": "code",
   "execution_count": null,
   "id": "ae300cfb",
   "metadata": {},
   "outputs": [],
   "source": [
    "df4"
   ]
  },
  {
   "cell_type": "code",
   "execution_count": null,
   "id": "bf09655f",
   "metadata": {},
   "outputs": [],
   "source": [
    "df5= df4.sort_values(by=['total_statements', 'Name'], ascending=[False, True])\n"
   ]
  },
  {
   "cell_type": "code",
   "execution_count": null,
   "id": "67898aac",
   "metadata": {},
   "outputs": [],
   "source": [
    "df5"
   ]
  },
  {
   "cell_type": "code",
   "execution_count": null,
   "id": "ff4e0fa5",
   "metadata": {},
   "outputs": [],
   "source": [
    "df6=df5.reset_index(drop=True)"
   ]
  },
  {
   "cell_type": "code",
   "execution_count": null,
   "id": "e7a9c00d",
   "metadata": {},
   "outputs": [],
   "source": [
    "df6.index += 1"
   ]
  },
  {
   "cell_type": "code",
   "execution_count": null,
   "id": "fbf7bbe3",
   "metadata": {},
   "outputs": [],
   "source": [
    "df6"
   ]
  },
  {
   "cell_type": "code",
   "execution_count": null,
   "id": "b6b9b0ea",
   "metadata": {},
   "outputs": [],
   "source": [
    "df7=df6.reset_index().rename(columns={'index': 'Rank'})"
   ]
  },
  {
   "cell_type": "code",
   "execution_count": null,
   "id": "8af82505",
   "metadata": {},
   "outputs": [],
   "source": [
    "df7"
   ]
  },
  {
   "cell_type": "code",
   "execution_count": null,
   "id": "91593460",
   "metadata": {},
   "outputs": [],
   "source": [
    "df8=df7.rename(columns={'uid':'UID','total_statements': 'No. of Statements', 'total_reasons': 'No. of Reasons'})"
   ]
  },
  {
   "cell_type": "code",
   "execution_count": null,
   "id": "4d9316ca",
   "metadata": {},
   "outputs": [],
   "source": [
    "df8"
   ]
  },
  {
   "cell_type": "code",
   "execution_count": null,
   "id": "19a9b16f",
   "metadata": {},
   "outputs": [],
   "source": [
    "df8.to_csv('Leaderboard Individual Output.csv', index=False)"
   ]
  },
  {
   "cell_type": "code",
   "execution_count": null,
   "id": "7c85a443",
   "metadata": {},
   "outputs": [],
   "source": []
  }
 ],
 "metadata": {
  "kernelspec": {
   "display_name": "Python 3 (ipykernel)",
   "language": "python",
   "name": "python3"
  },
  "language_info": {
   "codemirror_mode": {
    "name": "ipython",
    "version": 3
   },
   "file_extension": ".py",
   "mimetype": "text/x-python",
   "name": "python",
   "nbconvert_exporter": "python",
   "pygments_lexer": "ipython3",
   "version": "3.9.13"
  }
 },
 "nbformat": 4,
 "nbformat_minor": 5
}
